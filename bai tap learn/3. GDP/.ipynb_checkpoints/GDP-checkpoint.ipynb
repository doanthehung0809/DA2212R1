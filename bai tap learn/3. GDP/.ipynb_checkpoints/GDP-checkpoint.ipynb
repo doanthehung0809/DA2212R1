{
 "cells": [
  {
   "cell_type": "code",
   "execution_count": 3,
   "id": "15bd6d0c",
   "metadata": {},
   "outputs": [
    {
     "data": {
      "text/html": [
       "<div>\n",
       "<style scoped>\n",
       "    .dataframe tbody tr th:only-of-type {\n",
       "        vertical-align: middle;\n",
       "    }\n",
       "\n",
       "    .dataframe tbody tr th {\n",
       "        vertical-align: top;\n",
       "    }\n",
       "\n",
       "    .dataframe thead th {\n",
       "        text-align: right;\n",
       "    }\n",
       "</style>\n",
       "<table border=\"1\" class=\"dataframe\">\n",
       "  <thead>\n",
       "    <tr style=\"text-align: right;\">\n",
       "      <th></th>\n",
       "      <th>Country</th>\n",
       "      <th>Continent</th>\n",
       "      <th>GDP (millions of US$)</th>\n",
       "    </tr>\n",
       "  </thead>\n",
       "  <tbody>\n",
       "    <tr>\n",
       "      <th>0</th>\n",
       "      <td>Afghanistan</td>\n",
       "      <td>Asia</td>\n",
       "      <td>18181</td>\n",
       "    </tr>\n",
       "    <tr>\n",
       "      <th>1</th>\n",
       "      <td>Albania</td>\n",
       "      <td>Europe</td>\n",
       "      <td>12847</td>\n",
       "    </tr>\n",
       "    <tr>\n",
       "      <th>2</th>\n",
       "      <td>Algeria</td>\n",
       "      <td>Africa</td>\n",
       "      <td>190709</td>\n",
       "    </tr>\n",
       "    <tr>\n",
       "      <th>3</th>\n",
       "      <td>Angola</td>\n",
       "      <td>Africa</td>\n",
       "      <td>100948</td>\n",
       "    </tr>\n",
       "    <tr>\n",
       "      <th>4</th>\n",
       "      <td>Argentina</td>\n",
       "      <td>South America</td>\n",
       "      <td>447644</td>\n",
       "    </tr>\n",
       "  </tbody>\n",
       "</table>\n",
       "</div>"
      ],
      "text/plain": [
       "        Country      Continent  GDP (millions of US$)\n",
       "0   Afghanistan           Asia                  18181\n",
       "1       Albania         Europe                  12847\n",
       "2       Algeria         Africa                 190709\n",
       "3        Angola         Africa                 100948\n",
       "4     Argentina  South America                 447644"
      ]
     },
     "execution_count": 3,
     "metadata": {},
     "output_type": "execute_result"
    }
   ],
   "source": [
    "import pandas as pd\n",
    "df_gdp = pd.read_csv(\"GDPlist.csv\", encoding=\"ISO-8859-1\")\n",
    "df_gdp.head()"
   ]
  },
  {
   "cell_type": "markdown",
   "id": "b57fbaf0",
   "metadata": {},
   "source": [
    "# Bộ dữ liệu chứa bao nhiêu dòng, bao nhiêu cột?\n",
    "# Thang đo tương ứng của các thuộc tính được lưu trữ?"
   ]
  },
  {
   "cell_type": "code",
   "execution_count": 4,
   "id": "bf9c3a0c",
   "metadata": {
    "scrolled": false
   },
   "outputs": [
    {
     "name": "stdout",
     "output_type": "stream",
     "text": [
      "<class 'pandas.core.frame.DataFrame'>\n",
      "RangeIndex: 125 entries, 0 to 124\n",
      "Data columns (total 3 columns):\n",
      " #   Column                 Non-Null Count  Dtype \n",
      "---  ------                 --------------  ----- \n",
      " 0   Country                125 non-null    object\n",
      " 1   Continent              125 non-null    object\n",
      " 2   GDP (millions of US$)  125 non-null    int64 \n",
      "dtypes: int64(1), object(2)\n",
      "memory usage: 3.1+ KB\n"
     ]
    }
   ],
   "source": [
    "df_gdp.info()\n",
    "# Bộ dữ liệu có 124 hàng và 3 cột\n",
    "# Thang đo: Country: object, Continent: Object, GDP: int"
   ]
  },
  {
   "cell_type": "markdown",
   "id": "419d35eb",
   "metadata": {},
   "source": [
    "# GDP của các quốc gia có đồng đều không?"
   ]
  },
  {
   "cell_type": "code",
   "execution_count": 14,
   "id": "ead1c279",
   "metadata": {},
   "outputs": [
    {
     "data": {
      "text/plain": [
       "Country\n",
       " Afghanistan     18181\n",
       " Albania         12847\n",
       " Algeria        190709\n",
       " Angola         100948\n",
       " Argentina      447644\n",
       "                 ...  \n",
       " Uzbekistan      45353\n",
       " Venezuela      315841\n",
       " Vietnam        122722\n",
       " Yemen           33675\n",
       " Zambia          19206\n",
       "Name: GDP (millions of US$), Length: 125, dtype: int64"
      ]
     },
     "execution_count": 14,
     "metadata": {},
     "output_type": "execute_result"
    }
   ],
   "source": [
    "df_country_sum = df_gdp.groupby(\"Country\")[\"GDP (millions of US$)\"].sum()\n",
    "df_country_sum\n",
    "# GDP các quốc gia không đồng đều nhau"
   ]
  },
  {
   "cell_type": "markdown",
   "id": "27b74192",
   "metadata": {},
   "source": [
    "# Mỗi châu lục có bao nhiêu quốc gia nằm trong bảng dữ liệu"
   ]
  },
  {
   "cell_type": "code",
   "execution_count": 13,
   "id": "6ba6028e",
   "metadata": {
    "scrolled": true
   },
   "outputs": [
    {
     "data": {
      "text/plain": [
       "Continent\n",
       "Africa           29\n",
       "Asia             36\n",
       "Europe           37\n",
       "North America    11\n",
       "Oceania           3\n",
       "South America     9\n",
       "Name: Country, dtype: int64"
      ]
     },
     "execution_count": 13,
     "metadata": {},
     "output_type": "execute_result"
    }
   ],
   "source": [
    "df_country_continent = df_gdp.groupby(\"Continent\")[\"Country\"].count()\n",
    "df_country_continent"
   ]
  },
  {
   "cell_type": "markdown",
   "id": "e991e56b",
   "metadata": {},
   "source": [
    "# Tổng GPD của các châu lục?"
   ]
  },
  {
   "cell_type": "code",
   "execution_count": 15,
   "id": "12dec1a3",
   "metadata": {},
   "outputs": [
    {
     "data": {
      "text/plain": [
       "Continent\n",
       "Africa            1820811\n",
       "Asia             24425891\n",
       "Europe           19139380\n",
       "North America    18238447\n",
       "Oceania           1662727\n",
       "South America     4141217\n",
       "Name: GDP (millions of US$), dtype: int64"
      ]
     },
     "execution_count": 15,
     "metadata": {},
     "output_type": "execute_result"
    }
   ],
   "source": [
    "df_continent_sum = df_gdp.groupby(\"Continent\")[\"GDP (millions of US$)\"].sum()\n",
    "df_continent_sum"
   ]
  },
  {
   "cell_type": "markdown",
   "id": "f347b366",
   "metadata": {},
   "source": [
    "# Top 10 quốc gia có GDP cao nhất"
   ]
  },
  {
   "cell_type": "code",
   "execution_count": 17,
   "id": "af8be912",
   "metadata": {},
   "outputs": [
    {
     "data": {
      "text/plain": [
       "Country\n",
       " United States     15094025\n",
       " China              7298147\n",
       " Japan              5869471\n",
       " Germany            3577031\n",
       " France             2776324\n",
       " Brazil             2492908\n",
       " United Kingdom     2417570\n",
       " Italy              2198730\n",
       " Russia             1850401\n",
       " Canada             1736869\n",
       "Name: GDP (millions of US$), dtype: int64"
      ]
     },
     "execution_count": 17,
     "metadata": {},
     "output_type": "execute_result"
    }
   ],
   "source": [
    "df_country_sum.sort_values(ascending=False).head(10)"
   ]
  }
 ],
 "metadata": {
  "kernelspec": {
   "display_name": "Python 3 (ipykernel)",
   "language": "python",
   "name": "python3"
  },
  "language_info": {
   "codemirror_mode": {
    "name": "ipython",
    "version": 3
   },
   "file_extension": ".py",
   "mimetype": "text/x-python",
   "name": "python",
   "nbconvert_exporter": "python",
   "pygments_lexer": "ipython3",
   "version": "3.10.6"
  }
 },
 "nbformat": 4,
 "nbformat_minor": 5
}
